{
  "nbformat": 4,
  "nbformat_minor": 0,
  "metadata": {
    "accelerator": "GPU",
    "colab": {
      "name": "googLeNet.ipynb",
      "provenance": [],
      "collapsed_sections": [],
      "include_colab_link": true
    },
    "kernelspec": {
      "display_name": "Python 3",
      "name": "python3"
    }
  },
  "cells": [
    {
      "cell_type": "markdown",
      "metadata": {
        "id": "view-in-github",
        "colab_type": "text"
      },
      "source": [
        "<a href=\"https://colab.research.google.com/github/dohyeonYoon/Paper-review/blob/main/googLeNet.ipynb\" target=\"_parent\"><img src=\"https://colab.research.google.com/assets/colab-badge.svg\" alt=\"Open In Colab\"/></a>"
      ]
    },
    {
      "cell_type": "markdown",
      "metadata": {
        "id": "MjQg84jkTb6i"
      },
      "source": [
        "# Import Library\n"
      ]
    },
    {
      "cell_type": "code",
      "metadata": {
        "colab": {
          "base_uri": "https://localhost:8080/"
        },
        "id": "5ZiAVJEcNVe1",
        "outputId": "e23f653d-d69e-4e91-9955-dce5812068df"
      },
      "source": [
        "#cifar10 dataset 사용\n",
        "from keras.layers import Input, Conv2D, MaxPooling2D, Dropout, BatchNormalization, Dense, Activation, add, Flatten, AveragePooling2D, concatenate\n",
        "from keras.models import Model\n",
        "\n",
        "from keras.preprocessing.image import ImageDataGenerator\n",
        "import numpy as np\n",
        "import tensorflow as tf\n",
        "from keras.utils import np_utils\n",
        "\n",
        "width = 32\n",
        "height = 32\n",
        "\n",
        "(x_train, y_train), (x_test, y_test) = tf.keras.datasets.cifar10.load_data()"
      ],
      "execution_count": null,
      "outputs": [
        {
          "output_type": "stream",
          "text": [
            "Downloading data from https://www.cs.toronto.edu/~kriz/cifar-10-python.tar.gz\n",
            "170500096/170498071 [==============================] - 2s 0us/step\n"
          ],
          "name": "stdout"
        }
      ]
    },
    {
      "cell_type": "markdown",
      "metadata": {
        "id": "F1PIxfu-FJTd"
      },
      "source": [
        "https://www.tensorflow.org/api_docs/python/tf/keras/applications/InceptionV3"
      ]
    },
    {
      "cell_type": "code",
      "metadata": {
        "id": "8w4-9oE4Ngaj"
      },
      "source": [
        "num_classes = 10\n",
        "y_train = np_utils.to_categorical(y_train)\n",
        "y_test = np_utils.to_categorical(y_test)"
      ],
      "execution_count": null,
      "outputs": []
    },
    {
      "cell_type": "code",
      "metadata": {
        "id": "E-GhJpHuW02A"
      },
      "source": [
        "validation_images, validation_labels = x_train[:500], y_train[:500]\n",
        "train_images, train_labels = x_train[500:], y_train[500:]"
      ],
      "execution_count": null,
      "outputs": []
    },
    {
      "cell_type": "code",
      "metadata": {
        "colab": {
          "base_uri": "https://localhost:8080/"
        },
        "id": "qCGvbXliD5Au",
        "outputId": "65acc92c-a6ba-4e25-c674-eba83cacd217"
      },
      "source": [
        "train_images.shape"
      ],
      "execution_count": null,
      "outputs": [
        {
          "output_type": "execute_result",
          "data": {
            "text/plain": [
              "(49500, 32, 32, 3)"
            ]
          },
          "metadata": {
            "tags": []
          },
          "execution_count": 4
        }
      ]
    },
    {
      "cell_type": "markdown",
      "metadata": {
        "id": "if1WZFIfTyxJ"
      },
      "source": [
        "# Moldel "
      ]
    },
    {
      "cell_type": "code",
      "metadata": {
        "id": "gWFlCh3bHU2p"
      },
      "source": [
        "def inception(x, filters): \n",
        "    pre_layer = x\n",
        "    \n",
        "    f1,f2,f3,f4 = filters\n",
        "\n",
        "    # 1x1\n",
        "    conv1 = Conv2D(f1, kernel_size=(1,1), padding='same', activation='relu')(pre_layer)\n",
        "    \n",
        "    # 1x1 & 3x3\n",
        "    conv2 = Conv2D(f4  , kernel_size=(1,1), padding='same', activation='relu')(pre_layer)\n",
        "    conv2 = Conv2D(f2, kernel_size=(3,3), padding='same', activation='relu')(conv2)\n",
        "\n",
        "    # 1x1 & 5x5\n",
        "    conv3 = Conv2D(f4, kernel_size=(1,1), padding='same', activation='relu')(pre_layer)\n",
        "    conv3 = Conv2D(f3, kernel_size=(5,5), padding='same', activation='relu')(conv3)\n",
        "    \n",
        "    # pooling & 1x1\n",
        "    max_pool = MaxPooling2D(pool_size=(3,3), strides=1, padding='same')(pre_layer)\n",
        "    max_pool = Conv2D(f4, kernel_size=(1,1), padding='same')(max_pool)\n",
        "\n",
        "    # output = [None(batch_size), w,h,c], c 기준 concatenate (axis = -1 )\n",
        "    concat = concatenate([conv1, conv2, conv3, max_pool], axis=-1)\n",
        "    \n",
        "    return concat\n",
        "    "
      ],
      "execution_count": null,
      "outputs": []
    },
    {
      "cell_type": "code",
      "metadata": {
        "id": "_BQRbgfkHbCV"
      },
      "source": [
        "input_shape = x_train[0].shape    \n",
        "inputs = Input(shape=input_shape)\n",
        "\n",
        "# conv랑 batch 사이에 max pooling 들어가야 하나, cifar 데이터에선 크기 너무 줄어들어서 뺐음\n",
        "x = Conv2D(64, kernel_size=(7,7), strides=2, padding='same', activation='relu')(inputs)\n",
        "x = BatchNormalization()(x)\n",
        "x = Conv2D(192, kernel_size=(3,3), padding='same', activation='relu')(x)\n",
        "x = BatchNormalization()(x) \n",
        "\n",
        "#inception (input, [#1x1conv, #3x3conv, #5x5conv, #1x1reduction] )\n",
        "\n",
        "\n",
        "# inception 3a\n",
        "x = inception(x,[64,128,32,32])\n",
        "# inception 3b\n",
        "x = inception(x,[128,192,96,64])\n",
        "x = MaxPooling2D(pool_size=(3,3), strides=2, padding='same')(x)\n",
        "\n",
        "# inception 4a\n",
        "x = inception(x,[192,208,48,64])\n",
        "aux1 = AveragePooling2D(pool_size=(5,5),strides = 3, padding='valid')(x)\n",
        "aux1 = Conv2D(128, kernel_size=(1,1), padding='same', activation='relu')(aux1)\n",
        "aux1 = Flatten()(aux1)\n",
        "aux1 = Dense(512, activation='relu')(aux1)\n",
        "aux1 = Dense(10, activation='softmax')(aux1)\n",
        "\n",
        "# inception 4b\n",
        "x = inception(x,[160,224,64,64])\n",
        "\n",
        "\n",
        "# inception 4c\n",
        "x = inception(x,[128,256,64,64])\n",
        "# inception 4d\n",
        "x = inception(x,[112,288,64,64])\n",
        "aux2 = AveragePooling2D(pool_size=(5,5),strides = 3, padding='valid')(x)\n",
        "aux2 = Conv2D(128, kernel_size=(1,1), padding='same', activation='relu')(aux2)\n",
        "aux2 = Flatten()(aux2)\n",
        "aux2 = Dense(832, activation='relu')(aux2)\n",
        "aux2 = Dense(10, activation='softmax')(aux2)\n",
        "\n",
        "\n",
        "# inception 4e\n",
        "x = inception(x,[256,320,128,128])\n",
        "\n",
        "\n",
        "# inception 5a\n",
        "x = inception(x,[256,320,128,128])\n",
        "# inception 5b\n",
        "x = inception(x,[384,384,128,128])\n",
        "x = AveragePooling2D(pool_size=(4,4), padding='valid')(x)\n",
        "x = Dropout(0.4)(x)\n",
        "x = Flatten()(x)\n",
        "\n",
        "outputs = Dense(10, activation='softmax')(x)\n",
        "\n"
      ],
      "execution_count": null,
      "outputs": []
    },
    {
      "cell_type": "code",
      "metadata": {
        "id": "nx3JQsDnBose"
      },
      "source": [
        "model = Model(inputs=inputs, outputs=[aux1, aux2, outputs])\n",
        "\n",
        "model.compile(optimizer='adam', loss='categorical_crossentropy', loss_weights=[0.3,0.3,1.0], metrics=['accuracy']) \n"
      ],
      "execution_count": null,
      "outputs": []
    },
    {
      "cell_type": "code",
      "metadata": {
        "colab": {
          "base_uri": "https://localhost:8080/"
        },
        "id": "uLio7DUSOqPi",
        "outputId": "d6eab5f0-0bf9-4c31-b152-e585606d9d1f"
      },
      "source": [
        "model.summary()"
      ],
      "execution_count": null,
      "outputs": [
        {
          "output_type": "stream",
          "text": [
            "Model: \"model\"\n",
            "__________________________________________________________________________________________________\n",
            "Layer (type)                    Output Shape         Param #     Connected to                     \n",
            "==================================================================================================\n",
            "input_1 (InputLayer)            [(None, 32, 32, 3)]  0                                            \n",
            "__________________________________________________________________________________________________\n",
            "conv2d (Conv2D)                 (None, 16, 16, 64)   9472        input_1[0][0]                    \n",
            "__________________________________________________________________________________________________\n",
            "batch_normalization (BatchNorma (None, 16, 16, 64)   256         conv2d[0][0]                     \n",
            "__________________________________________________________________________________________________\n",
            "conv2d_1 (Conv2D)               (None, 16, 16, 192)  110784      batch_normalization[0][0]        \n",
            "__________________________________________________________________________________________________\n",
            "batch_normalization_1 (BatchNor (None, 16, 16, 192)  768         conv2d_1[0][0]                   \n",
            "__________________________________________________________________________________________________\n",
            "conv2d_3 (Conv2D)               (None, 16, 16, 32)   6176        batch_normalization_1[0][0]      \n",
            "__________________________________________________________________________________________________\n",
            "conv2d_5 (Conv2D)               (None, 16, 16, 32)   6176        batch_normalization_1[0][0]      \n",
            "__________________________________________________________________________________________________\n",
            "max_pooling2d (MaxPooling2D)    (None, 16, 16, 192)  0           batch_normalization_1[0][0]      \n",
            "__________________________________________________________________________________________________\n",
            "conv2d_2 (Conv2D)               (None, 16, 16, 64)   12352       batch_normalization_1[0][0]      \n",
            "__________________________________________________________________________________________________\n",
            "conv2d_4 (Conv2D)               (None, 16, 16, 128)  36992       conv2d_3[0][0]                   \n",
            "__________________________________________________________________________________________________\n",
            "conv2d_6 (Conv2D)               (None, 16, 16, 32)   25632       conv2d_5[0][0]                   \n",
            "__________________________________________________________________________________________________\n",
            "conv2d_7 (Conv2D)               (None, 16, 16, 32)   6176        max_pooling2d[0][0]              \n",
            "__________________________________________________________________________________________________\n",
            "concatenate (Concatenate)       (None, 16, 16, 256)  0           conv2d_2[0][0]                   \n",
            "                                                                 conv2d_4[0][0]                   \n",
            "                                                                 conv2d_6[0][0]                   \n",
            "                                                                 conv2d_7[0][0]                   \n",
            "__________________________________________________________________________________________________\n",
            "conv2d_9 (Conv2D)               (None, 16, 16, 64)   16448       concatenate[0][0]                \n",
            "__________________________________________________________________________________________________\n",
            "conv2d_11 (Conv2D)              (None, 16, 16, 64)   16448       concatenate[0][0]                \n",
            "__________________________________________________________________________________________________\n",
            "max_pooling2d_1 (MaxPooling2D)  (None, 16, 16, 256)  0           concatenate[0][0]                \n",
            "__________________________________________________________________________________________________\n",
            "conv2d_8 (Conv2D)               (None, 16, 16, 128)  32896       concatenate[0][0]                \n",
            "__________________________________________________________________________________________________\n",
            "conv2d_10 (Conv2D)              (None, 16, 16, 192)  110784      conv2d_9[0][0]                   \n",
            "__________________________________________________________________________________________________\n",
            "conv2d_12 (Conv2D)              (None, 16, 16, 96)   153696      conv2d_11[0][0]                  \n",
            "__________________________________________________________________________________________________\n",
            "conv2d_13 (Conv2D)              (None, 16, 16, 64)   16448       max_pooling2d_1[0][0]            \n",
            "__________________________________________________________________________________________________\n",
            "concatenate_1 (Concatenate)     (None, 16, 16, 480)  0           conv2d_8[0][0]                   \n",
            "                                                                 conv2d_10[0][0]                  \n",
            "                                                                 conv2d_12[0][0]                  \n",
            "                                                                 conv2d_13[0][0]                  \n",
            "__________________________________________________________________________________________________\n",
            "max_pooling2d_2 (MaxPooling2D)  (None, 8, 8, 480)    0           concatenate_1[0][0]              \n",
            "__________________________________________________________________________________________________\n",
            "conv2d_15 (Conv2D)              (None, 8, 8, 64)     30784       max_pooling2d_2[0][0]            \n",
            "__________________________________________________________________________________________________\n",
            "conv2d_17 (Conv2D)              (None, 8, 8, 64)     30784       max_pooling2d_2[0][0]            \n",
            "__________________________________________________________________________________________________\n",
            "max_pooling2d_3 (MaxPooling2D)  (None, 8, 8, 480)    0           max_pooling2d_2[0][0]            \n",
            "__________________________________________________________________________________________________\n",
            "conv2d_14 (Conv2D)              (None, 8, 8, 192)    92352       max_pooling2d_2[0][0]            \n",
            "__________________________________________________________________________________________________\n",
            "conv2d_16 (Conv2D)              (None, 8, 8, 208)    120016      conv2d_15[0][0]                  \n",
            "__________________________________________________________________________________________________\n",
            "conv2d_18 (Conv2D)              (None, 8, 8, 48)     76848       conv2d_17[0][0]                  \n",
            "__________________________________________________________________________________________________\n",
            "conv2d_19 (Conv2D)              (None, 8, 8, 64)     30784       max_pooling2d_3[0][0]            \n",
            "__________________________________________________________________________________________________\n",
            "concatenate_2 (Concatenate)     (None, 8, 8, 512)    0           conv2d_14[0][0]                  \n",
            "                                                                 conv2d_16[0][0]                  \n",
            "                                                                 conv2d_18[0][0]                  \n",
            "                                                                 conv2d_19[0][0]                  \n",
            "__________________________________________________________________________________________________\n",
            "conv2d_22 (Conv2D)              (None, 8, 8, 64)     32832       concatenate_2[0][0]              \n",
            "__________________________________________________________________________________________________\n",
            "conv2d_24 (Conv2D)              (None, 8, 8, 64)     32832       concatenate_2[0][0]              \n",
            "__________________________________________________________________________________________________\n",
            "max_pooling2d_4 (MaxPooling2D)  (None, 8, 8, 512)    0           concatenate_2[0][0]              \n",
            "__________________________________________________________________________________________________\n",
            "conv2d_21 (Conv2D)              (None, 8, 8, 160)    82080       concatenate_2[0][0]              \n",
            "__________________________________________________________________________________________________\n",
            "conv2d_23 (Conv2D)              (None, 8, 8, 224)    129248      conv2d_22[0][0]                  \n",
            "__________________________________________________________________________________________________\n",
            "conv2d_25 (Conv2D)              (None, 8, 8, 64)     102464      conv2d_24[0][0]                  \n",
            "__________________________________________________________________________________________________\n",
            "conv2d_26 (Conv2D)              (None, 8, 8, 64)     32832       max_pooling2d_4[0][0]            \n",
            "__________________________________________________________________________________________________\n",
            "concatenate_3 (Concatenate)     (None, 8, 8, 512)    0           conv2d_21[0][0]                  \n",
            "                                                                 conv2d_23[0][0]                  \n",
            "                                                                 conv2d_25[0][0]                  \n",
            "                                                                 conv2d_26[0][0]                  \n",
            "__________________________________________________________________________________________________\n",
            "conv2d_28 (Conv2D)              (None, 8, 8, 64)     32832       concatenate_3[0][0]              \n",
            "__________________________________________________________________________________________________\n",
            "conv2d_30 (Conv2D)              (None, 8, 8, 64)     32832       concatenate_3[0][0]              \n",
            "__________________________________________________________________________________________________\n",
            "max_pooling2d_5 (MaxPooling2D)  (None, 8, 8, 512)    0           concatenate_3[0][0]              \n",
            "__________________________________________________________________________________________________\n",
            "conv2d_27 (Conv2D)              (None, 8, 8, 128)    65664       concatenate_3[0][0]              \n",
            "__________________________________________________________________________________________________\n",
            "conv2d_29 (Conv2D)              (None, 8, 8, 256)    147712      conv2d_28[0][0]                  \n",
            "__________________________________________________________________________________________________\n",
            "conv2d_31 (Conv2D)              (None, 8, 8, 64)     102464      conv2d_30[0][0]                  \n",
            "__________________________________________________________________________________________________\n",
            "conv2d_32 (Conv2D)              (None, 8, 8, 64)     32832       max_pooling2d_5[0][0]            \n",
            "__________________________________________________________________________________________________\n",
            "concatenate_4 (Concatenate)     (None, 8, 8, 512)    0           conv2d_27[0][0]                  \n",
            "                                                                 conv2d_29[0][0]                  \n",
            "                                                                 conv2d_31[0][0]                  \n",
            "                                                                 conv2d_32[0][0]                  \n",
            "__________________________________________________________________________________________________\n",
            "conv2d_34 (Conv2D)              (None, 8, 8, 64)     32832       concatenate_4[0][0]              \n",
            "__________________________________________________________________________________________________\n",
            "conv2d_36 (Conv2D)              (None, 8, 8, 64)     32832       concatenate_4[0][0]              \n",
            "__________________________________________________________________________________________________\n",
            "max_pooling2d_6 (MaxPooling2D)  (None, 8, 8, 512)    0           concatenate_4[0][0]              \n",
            "__________________________________________________________________________________________________\n",
            "conv2d_33 (Conv2D)              (None, 8, 8, 112)    57456       concatenate_4[0][0]              \n",
            "__________________________________________________________________________________________________\n",
            "conv2d_35 (Conv2D)              (None, 8, 8, 288)    166176      conv2d_34[0][0]                  \n",
            "__________________________________________________________________________________________________\n",
            "conv2d_37 (Conv2D)              (None, 8, 8, 64)     102464      conv2d_36[0][0]                  \n",
            "__________________________________________________________________________________________________\n",
            "conv2d_38 (Conv2D)              (None, 8, 8, 64)     32832       max_pooling2d_6[0][0]            \n",
            "__________________________________________________________________________________________________\n",
            "concatenate_5 (Concatenate)     (None, 8, 8, 528)    0           conv2d_33[0][0]                  \n",
            "                                                                 conv2d_35[0][0]                  \n",
            "                                                                 conv2d_37[0][0]                  \n",
            "                                                                 conv2d_38[0][0]                  \n",
            "__________________________________________________________________________________________________\n",
            "conv2d_41 (Conv2D)              (None, 8, 8, 128)    67712       concatenate_5[0][0]              \n",
            "__________________________________________________________________________________________________\n",
            "conv2d_43 (Conv2D)              (None, 8, 8, 128)    67712       concatenate_5[0][0]              \n",
            "__________________________________________________________________________________________________\n",
            "max_pooling2d_7 (MaxPooling2D)  (None, 8, 8, 528)    0           concatenate_5[0][0]              \n",
            "__________________________________________________________________________________________________\n",
            "conv2d_40 (Conv2D)              (None, 8, 8, 256)    135424      concatenate_5[0][0]              \n",
            "__________________________________________________________________________________________________\n",
            "conv2d_42 (Conv2D)              (None, 8, 8, 320)    368960      conv2d_41[0][0]                  \n",
            "__________________________________________________________________________________________________\n",
            "conv2d_44 (Conv2D)              (None, 8, 8, 128)    409728      conv2d_43[0][0]                  \n",
            "__________________________________________________________________________________________________\n",
            "conv2d_45 (Conv2D)              (None, 8, 8, 128)    67712       max_pooling2d_7[0][0]            \n",
            "__________________________________________________________________________________________________\n",
            "concatenate_6 (Concatenate)     (None, 8, 8, 832)    0           conv2d_40[0][0]                  \n",
            "                                                                 conv2d_42[0][0]                  \n",
            "                                                                 conv2d_44[0][0]                  \n",
            "                                                                 conv2d_45[0][0]                  \n",
            "__________________________________________________________________________________________________\n",
            "conv2d_47 (Conv2D)              (None, 8, 8, 128)    106624      concatenate_6[0][0]              \n",
            "__________________________________________________________________________________________________\n",
            "conv2d_49 (Conv2D)              (None, 8, 8, 128)    106624      concatenate_6[0][0]              \n",
            "__________________________________________________________________________________________________\n",
            "max_pooling2d_8 (MaxPooling2D)  (None, 8, 8, 832)    0           concatenate_6[0][0]              \n",
            "__________________________________________________________________________________________________\n",
            "conv2d_46 (Conv2D)              (None, 8, 8, 256)    213248      concatenate_6[0][0]              \n",
            "__________________________________________________________________________________________________\n",
            "conv2d_48 (Conv2D)              (None, 8, 8, 320)    368960      conv2d_47[0][0]                  \n",
            "__________________________________________________________________________________________________\n",
            "conv2d_50 (Conv2D)              (None, 8, 8, 128)    409728      conv2d_49[0][0]                  \n",
            "__________________________________________________________________________________________________\n",
            "conv2d_51 (Conv2D)              (None, 8, 8, 128)    106624      max_pooling2d_8[0][0]            \n",
            "__________________________________________________________________________________________________\n",
            "concatenate_7 (Concatenate)     (None, 8, 8, 832)    0           conv2d_46[0][0]                  \n",
            "                                                                 conv2d_48[0][0]                  \n",
            "                                                                 conv2d_50[0][0]                  \n",
            "                                                                 conv2d_51[0][0]                  \n",
            "__________________________________________________________________________________________________\n",
            "conv2d_53 (Conv2D)              (None, 8, 8, 128)    106624      concatenate_7[0][0]              \n",
            "__________________________________________________________________________________________________\n",
            "conv2d_55 (Conv2D)              (None, 8, 8, 128)    106624      concatenate_7[0][0]              \n",
            "__________________________________________________________________________________________________\n",
            "max_pooling2d_9 (MaxPooling2D)  (None, 8, 8, 832)    0           concatenate_7[0][0]              \n",
            "__________________________________________________________________________________________________\n",
            "conv2d_52 (Conv2D)              (None, 8, 8, 384)    319872      concatenate_7[0][0]              \n",
            "__________________________________________________________________________________________________\n",
            "conv2d_54 (Conv2D)              (None, 8, 8, 384)    442752      conv2d_53[0][0]                  \n",
            "__________________________________________________________________________________________________\n",
            "conv2d_56 (Conv2D)              (None, 8, 8, 128)    409728      conv2d_55[0][0]                  \n",
            "__________________________________________________________________________________________________\n",
            "conv2d_57 (Conv2D)              (None, 8, 8, 128)    106624      max_pooling2d_9[0][0]            \n",
            "__________________________________________________________________________________________________\n",
            "average_pooling2d (AveragePooli (None, 2, 2, 512)    0           concatenate_2[0][0]              \n",
            "__________________________________________________________________________________________________\n",
            "average_pooling2d_1 (AveragePoo (None, 2, 2, 528)    0           concatenate_5[0][0]              \n",
            "__________________________________________________________________________________________________\n",
            "concatenate_8 (Concatenate)     (None, 8, 8, 1024)   0           conv2d_52[0][0]                  \n",
            "                                                                 conv2d_54[0][0]                  \n",
            "                                                                 conv2d_56[0][0]                  \n",
            "                                                                 conv2d_57[0][0]                  \n",
            "__________________________________________________________________________________________________\n",
            "conv2d_20 (Conv2D)              (None, 2, 2, 128)    65664       average_pooling2d[0][0]          \n",
            "__________________________________________________________________________________________________\n",
            "conv2d_39 (Conv2D)              (None, 2, 2, 128)    67712       average_pooling2d_1[0][0]        \n",
            "__________________________________________________________________________________________________\n",
            "average_pooling2d_2 (AveragePoo (None, 2, 2, 1024)   0           concatenate_8[0][0]              \n",
            "__________________________________________________________________________________________________\n",
            "flatten (Flatten)               (None, 512)          0           conv2d_20[0][0]                  \n",
            "__________________________________________________________________________________________________\n",
            "flatten_1 (Flatten)             (None, 512)          0           conv2d_39[0][0]                  \n",
            "__________________________________________________________________________________________________\n",
            "dropout (Dropout)               (None, 2, 2, 1024)   0           average_pooling2d_2[0][0]        \n",
            "__________________________________________________________________________________________________\n",
            "dense (Dense)                   (None, 512)          262656      flatten[0][0]                    \n",
            "__________________________________________________________________________________________________\n",
            "dense_2 (Dense)                 (None, 832)          426816      flatten_1[0][0]                  \n",
            "__________________________________________________________________________________________________\n",
            "flatten_2 (Flatten)             (None, 4096)         0           dropout[0][0]                    \n",
            "__________________________________________________________________________________________________\n",
            "dense_1 (Dense)                 (None, 10)           5130        dense[0][0]                      \n",
            "__________________________________________________________________________________________________\n",
            "dense_3 (Dense)                 (None, 10)           8330        dense_2[0][0]                    \n",
            "__________________________________________________________________________________________________\n",
            "dense_4 (Dense)                 (None, 10)           40970       flatten_2[0][0]                  \n",
            "==================================================================================================\n",
            "Total params: 6,992,846\n",
            "Trainable params: 6,992,334\n",
            "Non-trainable params: 512\n",
            "__________________________________________________________________________________________________\n"
          ],
          "name": "stdout"
        }
      ]
    },
    {
      "cell_type": "code",
      "metadata": {
        "id": "hKIGz5YMWrKr"
      },
      "source": [
        "train_datagen = ImageDataGenerator(rescale = 1./255,\n",
        "                                   shear_range = 0.2,\n",
        "                                   zoom_range = 0.2,\n",
        "                                   horizontal_flip = True)\n",
        "\n",
        "validation_datagen = ImageDataGenerator(rescale = 1./255,\n",
        "                                   shear_range = 0.2,\n",
        "                                   zoom_range = 0.2,\n",
        "                                   horizontal_flip = True)"
      ],
      "execution_count": null,
      "outputs": []
    },
    {
      "cell_type": "markdown",
      "metadata": {
        "id": "oqNCCaWDT4wB"
      },
      "source": [
        "# Training"
      ]
    },
    {
      "cell_type": "code",
      "metadata": {
        "colab": {
          "base_uri": "https://localhost:8080/"
        },
        "id": "o73IuB0RXFoe",
        "outputId": "1bb1a50b-f880-454e-eb4f-2b05383bda7f"
      },
      "source": [
        "history = model.fit_generator(train_datagen.flow(train_images,train_labels, batch_size = 32), \n",
        "                    validation_data = validation_datagen.flow(validation_images, validation_labels, batch_size = 32),\n",
        "                    epochs = 10)"
      ],
      "execution_count": null,
      "outputs": [
        {
          "output_type": "stream",
          "text": [
            "/usr/local/lib/python3.7/dist-packages/tensorflow/python/keras/engine/training.py:1844: UserWarning: `Model.fit_generator` is deprecated and will be removed in a future version. Please use `Model.fit`, which supports generators.\n",
            "  warnings.warn('`Model.fit_generator` is deprecated and '\n"
          ],
          "name": "stderr"
        },
        {
          "output_type": "stream",
          "text": [
            "Epoch 1/10\n",
            "1547/1547 [==============================] - 120s 54ms/step - loss: 2.8857 - dense_1_loss: 1.7374 - dense_3_loss: 1.7846 - dense_4_loss: 1.8291 - dense_1_accuracy: 0.3575 - dense_3_accuracy: 0.3315 - dense_4_accuracy: 0.3242 - val_loss: 2.0963 - val_dense_1_loss: 1.3187 - val_dense_3_loss: 1.3039 - val_dense_4_loss: 1.3096 - val_dense_1_accuracy: 0.5440 - val_dense_3_accuracy: 0.5280 - val_dense_4_accuracy: 0.5360\n",
            "Epoch 2/10\n",
            "1547/1547 [==============================] - 82s 53ms/step - loss: 2.0899 - dense_1_loss: 1.2635 - dense_3_loss: 1.2882 - dense_4_loss: 1.3244 - dense_1_accuracy: 0.5427 - dense_3_accuracy: 0.5335 - dense_4_accuracy: 0.5216 - val_loss: 1.6993 - val_dense_1_loss: 1.0568 - val_dense_3_loss: 1.0557 - val_dense_4_loss: 1.0655 - val_dense_1_accuracy: 0.6340 - val_dense_3_accuracy: 0.6460 - val_dense_4_accuracy: 0.6180\n",
            "Epoch 3/10\n",
            "1547/1547 [==============================] - 83s 53ms/step - loss: 1.6757 - dense_1_loss: 1.0193 - dense_3_loss: 1.0285 - dense_4_loss: 1.0613 - dense_1_accuracy: 0.6395 - dense_3_accuracy: 0.6399 - dense_4_accuracy: 0.6294 - val_loss: 1.5870 - val_dense_1_loss: 1.0209 - val_dense_3_loss: 0.9822 - val_dense_4_loss: 0.9860 - val_dense_1_accuracy: 0.6460 - val_dense_3_accuracy: 0.6500 - val_dense_4_accuracy: 0.6340\n",
            "Epoch 4/10\n",
            "1547/1547 [==============================] - 83s 54ms/step - loss: 1.4525 - dense_1_loss: 0.8827 - dense_3_loss: 0.8890 - dense_4_loss: 0.9210 - dense_1_accuracy: 0.6921 - dense_3_accuracy: 0.6928 - dense_4_accuracy: 0.6842 - val_loss: 1.3743 - val_dense_1_loss: 0.8650 - val_dense_3_loss: 0.8532 - val_dense_4_loss: 0.8588 - val_dense_1_accuracy: 0.6920 - val_dense_3_accuracy: 0.6840 - val_dense_4_accuracy: 0.6820\n",
            "Epoch 5/10\n",
            "1547/1547 [==============================] - 82s 53ms/step - loss: 1.3114 - dense_1_loss: 0.8007 - dense_3_loss: 0.7985 - dense_4_loss: 0.8317 - dense_1_accuracy: 0.7190 - dense_3_accuracy: 0.7217 - dense_4_accuracy: 0.7121 - val_loss: 1.3304 - val_dense_1_loss: 0.8144 - val_dense_3_loss: 0.8217 - val_dense_4_loss: 0.8396 - val_dense_1_accuracy: 0.7260 - val_dense_3_accuracy: 0.7220 - val_dense_4_accuracy: 0.7220\n",
            "Epoch 6/10\n",
            "1547/1547 [==============================] - 82s 53ms/step - loss: 1.2017 - dense_1_loss: 0.7338 - dense_3_loss: 0.7309 - dense_4_loss: 0.7623 - dense_1_accuracy: 0.7436 - dense_3_accuracy: 0.7467 - dense_4_accuracy: 0.7356 - val_loss: 1.2659 - val_dense_1_loss: 0.7591 - val_dense_3_loss: 0.7865 - val_dense_4_loss: 0.8022 - val_dense_1_accuracy: 0.7480 - val_dense_3_accuracy: 0.7440 - val_dense_4_accuracy: 0.7240\n",
            "Epoch 7/10\n",
            "1547/1547 [==============================] - 81s 52ms/step - loss: 1.1051 - dense_1_loss: 0.6765 - dense_3_loss: 0.6700 - dense_4_loss: 0.7011 - dense_1_accuracy: 0.7637 - dense_3_accuracy: 0.7682 - dense_4_accuracy: 0.7591 - val_loss: 1.1302 - val_dense_1_loss: 0.6913 - val_dense_3_loss: 0.6736 - val_dense_4_loss: 0.7207 - val_dense_1_accuracy: 0.7780 - val_dense_3_accuracy: 0.7700 - val_dense_4_accuracy: 0.7600\n",
            "Epoch 8/10\n",
            "1547/1547 [==============================] - 82s 53ms/step - loss: 1.0590 - dense_1_loss: 0.6430 - dense_3_loss: 0.6419 - dense_4_loss: 0.6735 - dense_1_accuracy: 0.7760 - dense_3_accuracy: 0.7770 - dense_4_accuracy: 0.7679 - val_loss: 1.1633 - val_dense_1_loss: 0.7092 - val_dense_3_loss: 0.7168 - val_dense_4_loss: 0.7355 - val_dense_1_accuracy: 0.7620 - val_dense_3_accuracy: 0.7580 - val_dense_4_accuracy: 0.7480\n",
            "Epoch 9/10\n",
            "1547/1547 [==============================] - 82s 53ms/step - loss: 0.9975 - dense_1_loss: 0.6066 - dense_3_loss: 0.6032 - dense_4_loss: 0.6346 - dense_1_accuracy: 0.7883 - dense_3_accuracy: 0.7904 - dense_4_accuracy: 0.7805 - val_loss: 1.0233 - val_dense_1_loss: 0.6500 - val_dense_3_loss: 0.6213 - val_dense_4_loss: 0.6419 - val_dense_1_accuracy: 0.7940 - val_dense_3_accuracy: 0.8020 - val_dense_4_accuracy: 0.7960\n",
            "Epoch 10/10\n",
            "1547/1547 [==============================] - 81s 53ms/step - loss: 0.9478 - dense_1_loss: 0.5766 - dense_3_loss: 0.5754 - dense_4_loss: 0.6022 - dense_1_accuracy: 0.7990 - dense_3_accuracy: 0.8021 - dense_4_accuracy: 0.7940 - val_loss: 1.0647 - val_dense_1_loss: 0.6546 - val_dense_3_loss: 0.6668 - val_dense_4_loss: 0.6682 - val_dense_1_accuracy: 0.7720 - val_dense_3_accuracy: 0.7620 - val_dense_4_accuracy: 0.7720\n"
          ],
          "name": "stdout"
        }
      ]
    },
    {
      "cell_type": "markdown",
      "metadata": {
        "id": "ocedicaGT7_J"
      },
      "source": [
        "# Visualization"
      ]
    },
    {
      "cell_type": "code",
      "metadata": {
        "colab": {
          "base_uri": "https://localhost:8080/",
          "height": 499
        },
        "id": "nouTQsGTOR9i",
        "outputId": "907dc385-ba55-4860-e5f5-58f1e781ef77"
      },
      "source": [
        "import matplotlib.pyplot as plt\n",
        "\n",
        "acc = history.history['dense_4_accuracy']\n",
        "val_acc = history.history['val_dense_4_accuracy']\n",
        "\n",
        "loss = history.history['dense_4_loss']\n",
        "val_loss = history.history['val_dense_4_loss']\n",
        "\n",
        "epochs_range = range(10)\n",
        "\n",
        "plt.figure(figsize=(8, 8))\n",
        "plt.subplot(1, 2, 1)\n",
        "plt.plot(epochs_range, acc, label='Training Accuracy')\n",
        "plt.plot(epochs_range, val_acc, label='Validation Accuracy')\n",
        "plt.legend(loc='lower right')\n",
        "plt.title('Training and Validation Accuracy')\n",
        "\n",
        "plt.subplot(1, 2, 2)\n",
        "plt.plot(epochs_range, loss, label='Training Loss')\n",
        "plt.plot(epochs_range, val_loss, label='Validation Loss')\n",
        "plt.legend(loc='upper right')\n",
        "plt.title('Training and Validation Loss')\n",
        "plt.show()"
      ],
      "execution_count": null,
      "outputs": [
        {
          "output_type": "display_data",
          "data": {
            "image/png": "[encoded data removed]",
            "text/plain": [
              "<Figure size 576x576 with 2 Axes>"
            ]
          },
          "metadata": {
            "tags": [],
            "needs_background": "light"
          }
        }
      ]
    }
  ]
}